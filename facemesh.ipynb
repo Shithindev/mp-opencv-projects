{
 "cells": [
  {
   "cell_type": "code",
   "execution_count": 1,
   "metadata": {},
   "outputs": [],
   "source": [
    "import cv2\n",
    "import mediapipe as mp"
   ]
  },
  {
   "cell_type": "code",
   "execution_count": 2,
   "metadata": {},
   "outputs": [],
   "source": [
    "mp_facemesh=mp.solutions.face_mesh\n",
    "mpdrawing=mp.solutions.drawing_utils"
   ]
  },
  {
   "cell_type": "code",
   "execution_count": 3,
   "metadata": {},
   "outputs": [],
   "source": [
    "facemesh=mp_facemesh.FaceMesh()"
   ]
  },
  {
   "cell_type": "code",
   "execution_count": 14,
   "metadata": {},
   "outputs": [],
   "source": [
    "video=cv2.VideoCapture(0)\n",
    "while True:\n",
    "    suc,img=video.read()\n",
    "    img=cv2.flip(img,1)\n",
    "    rgb_img=cv2.cvtColor(img,cv2.COLOR_BGR2RGB)\n",
    "    result=facemesh.process(img)\n",
    "    bgr_img=cv2.cvtColor(rgb_img,cv2.COLOR_RGB2BGR)\n",
    "    if result.multi_face_landmarks:\n",
    "        for facelm in result.multi_face_landmarks:\n",
    "            mpdrawing.draw_landmarks(bgr_img,facelm)\n",
    "        cv2.imshow('facemesh',bgr_img)\n",
    "        if cv2.waitKey(1) & 0XFF==ord('q'):\n",
    "            break\n",
    "video.release()\n",
    "cv2.destroyAllWindows()\n"
   ]
  }
 ],
 "metadata": {
  "kernelspec": {
   "display_name": "Python 3",
   "language": "python",
   "name": "python3"
  },
  "language_info": {
   "codemirror_mode": {
    "name": "ipython",
    "version": 3
   },
   "file_extension": ".py",
   "mimetype": "text/x-python",
   "name": "python",
   "nbconvert_exporter": "python",
   "pygments_lexer": "ipython3",
   "version": "3.11.1"
  },
  "orig_nbformat": 4
 },
 "nbformat": 4,
 "nbformat_minor": 2
}
