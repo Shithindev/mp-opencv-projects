{
 "cells": [
  {
   "cell_type": "code",
   "execution_count": 1,
   "metadata": {},
   "outputs": [],
   "source": [
    "import mediapipe as mp\n",
    "import cv2\n"
   ]
  },
  {
   "cell_type": "code",
   "execution_count": 2,
   "metadata": {},
   "outputs": [],
   "source": [
    "mphands=mp.solutions.hands\n",
    "mp_drawing=mp.solutions.drawing_utils"
   ]
  },
  {
   "cell_type": "code",
   "execution_count": 3,
   "metadata": {},
   "outputs": [],
   "source": [
    "Hands=mphands.Hands()"
   ]
  },
  {
   "cell_type": "code",
   "execution_count": 4,
   "metadata": {},
   "outputs": [],
   "source": [
    "video=cv2.VideoCapture(0)\n",
    "while True:\n",
    "    suc,image=video.read()\n",
    "    image=cv2.flip(image,2)\n",
    "    rgb_img=cv2.cvtColor(image,cv2.COLOR_BGR2RGB)\n",
    "    results=Hands.process(rgb_img)\n",
    "    # print(results)\n",
    "    bgr_img=cv2.cvtColor(rgb_img,cv2.COLOR_RGB2BGR)\n",
    "    if results.multi_hand_landmarks:\n",
    "        for hand_landmarks in results.multi_hand_landmarks:\n",
    "            mp_drawing.draw_landmarks(bgr_img,hand_landmarks,mphands.HAND_CONNECTIONS)\n",
    "    cv2.imshow('Hand',bgr_img)\n",
    "    if cv2.waitKey(1) & 0XFF==ord('q'):\n",
    "        break\n",
    "video.release()\n",
    "cv2.destroyAllWindows()"
   ]
  },
  {
   "cell_type": "code",
   "execution_count": 5,
   "metadata": {},
   "outputs": [
    {
     "data": {
      "text/plain": [
       "landmark {\n",
       "  x: 0.20190427\n",
       "  y: 0.7992885\n",
       "  z: 9.705785e-07\n",
       "}\n",
       "landmark {\n",
       "  x: 0.29205284\n",
       "  y: 0.7588639\n",
       "  z: -0.09280894\n",
       "}\n",
       "landmark {\n",
       "  x: 0.36749253\n",
       "  y: 0.68072075\n",
       "  z: -0.13685459\n",
       "}\n",
       "landmark {\n",
       "  x: 0.406171\n",
       "  y: 0.6025912\n",
       "  z: -0.17101648\n",
       "}\n",
       "landmark {\n",
       "  x: 0.42449552\n",
       "  y: 0.5310716\n",
       "  z: -0.20534344\n",
       "}\n",
       "landmark {\n",
       "  x: 0.3115983\n",
       "  y: 0.48645988\n",
       "  z: -0.09146236\n",
       "}\n",
       "landmark {\n",
       "  x: 0.35181224\n",
       "  y: 0.37073165\n",
       "  z: -0.14199503\n",
       "}\n",
       "landmark {\n",
       "  x: 0.3701936\n",
       "  y: 0.28464848\n",
       "  z: -0.18133011\n",
       "}\n",
       "landmark {\n",
       "  x: 0.38285327\n",
       "  y: 0.21508235\n",
       "  z: -0.20885181\n",
       "}\n",
       "landmark {\n",
       "  x: 0.2456976\n",
       "  y: 0.46197352\n",
       "  z: -0.07602268\n",
       "}\n",
       "landmark {\n",
       "  x: 0.24987932\n",
       "  y: 0.32243896\n",
       "  z: -0.12019854\n",
       "}\n",
       "landmark {\n",
       "  x: 0.2480209\n",
       "  y: 0.22753015\n",
       "  z: -0.15556473\n",
       "}\n",
       "landmark {\n",
       "  x: 0.24758187\n",
       "  y: 0.14520591\n",
       "  z: -0.18088241\n",
       "}\n",
       "landmark {\n",
       "  x: 0.18198419\n",
       "  y: 0.47514808\n",
       "  z: -0.07054498\n",
       "}\n",
       "landmark {\n",
       "  x: 0.16564691\n",
       "  y: 0.3455437\n",
       "  z: -0.11805127\n",
       "}\n",
       "landmark {\n",
       "  x: 0.15241815\n",
       "  y: 0.2606687\n",
       "  z: -0.154121\n",
       "}\n",
       "landmark {\n",
       "  x: 0.14371203\n",
       "  y: 0.18955216\n",
       "  z: -0.17859837\n",
       "}\n",
       "landmark {\n",
       "  x: 0.122878134\n",
       "  y: 0.51789886\n",
       "  z: -0.07286563\n",
       "}\n",
       "landmark {\n",
       "  x: 0.077818334\n",
       "  y: 0.4452387\n",
       "  z: -0.121260494\n",
       "}\n",
       "landmark {\n",
       "  x: 0.04718557\n",
       "  y: 0.39558607\n",
       "  z: -0.150223\n",
       "}\n",
       "landmark {\n",
       "  x: 0.023020774\n",
       "  y: 0.34761643\n",
       "  z: -0.16875792\n",
       "}"
      ]
     },
     "execution_count": 5,
     "metadata": {},
     "output_type": "execute_result"
    }
   ],
   "source": [
    "hand_landmarks"
   ]
  }
 ],
 "metadata": {
  "kernelspec": {
   "display_name": "Python 3",
   "language": "python",
   "name": "python3"
  },
  "language_info": {
   "codemirror_mode": {
    "name": "ipython",
    "version": 3
   },
   "file_extension": ".py",
   "mimetype": "text/x-python",
   "name": "python",
   "nbconvert_exporter": "python",
   "pygments_lexer": "ipython3",
   "version": "3.11.1"
  },
  "orig_nbformat": 4
 },
 "nbformat": 4,
 "nbformat_minor": 2
}
